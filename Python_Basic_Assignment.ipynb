{
  "nbformat": 4,
  "nbformat_minor": 0,
  "metadata": {
    "colab": {
      "provenance": []
    },
    "kernelspec": {
      "name": "python3",
      "display_name": "Python 3"
    },
    "language_info": {
      "name": "python"
    }
  },
  "cells": [
    {
      "cell_type": "code",
      "source": [
        "#Python Basics Questions"
      ],
      "metadata": {
        "id": "_IHIGGx2ilmM"
      },
      "execution_count": null,
      "outputs": []
    },
    {
      "cell_type": "markdown",
      "source": [
        "\n",
        "\n",
        "\"\"\"1) What is Python, and why is it popular?\n",
        "\n",
        "   1) Python is a general-purpose, high-level, object-oriented programming language that's used for many different purposes, including: Building websites and software, Automating tasks, Analyzing data, Machine learning, and Data science.\n",
        "   Python's popularity stems from a combination of factors that make it an attractive choice for both beginners and experienced programmers:\n",
        "\n",
        "Readability and Ease of Use: Python's syntax is clear, concise, and resembles natural English, making it relatively easy to learn and understand. This reduces the learning curve for beginners and allows developers to write code more quickly.\n",
        "\n",
        "Versatility and Wide Range of Applications: As mentioned earlier, Python is incredibly versatile and can be used for various purposes. This makes it a valuable tool for diverse fields and projects.\n",
        "\n",
        "Large and Active Community: Python has a huge and supportive community of developers. This means you can find plenty of resources, tutorials, libraries, and frameworks to help you with your projects. The community also actively contributes to improving and expanding the language.\n",
        "\n",
        "Extensive Libraries and Frameworks: Python boasts a vast collection of libraries and frameworks that provide pre-written code for common tasks. This saves developers time and effort, allowing them to focus on the unique aspects of their projects. Popular libraries include NumPy for numerical computing, Pandas for data analysis, and Django for web development.\n",
        "\n",
        "Cross-Platform Compatibility: Python code can run on various operating systems, including Windows, macOS, and Linux, without requiring significant modifications. This portability makes it a convenient choice for developers working across different platforms.\n",
        "\n",
        "Open Source and Free: Python is open-source software, meaning it's free to use, distribute, and modify. This accessibility has contributed to its widespread adoption and continuous development."
      ],
      "metadata": {
        "id": "_StbTXAKjQrF"
      }
    },
    {
      "cell_type": "markdown",
      "source": [
        "2) What is an interpreter in Python?\n",
        "\n",
        "2)The Python interpreter is a program that executes Python code. It acts like a translator between your human-readable Python code and the computer's machine language, allowing your computer to understand and run your instructions.\n",
        "\n",
        "Here's a breakdown of how it works:\n",
        "\n",
        "You write Python code: You create a text file with your Python instructions, typically saved with a .py extension (e.g., my_script.py).\n",
        "\n",
        "You run the code: You execute the code using the Python interpreter by typing python my_script.py in your terminal or command prompt.\n",
        "\n",
        "The interpreter takes over: The Python interpreter reads your code line by line.\n",
        "\n",
        "Translation and Execution: For each line of code, the interpreter:\n",
        "\n",
        "Lexing: Breaks the code into tokens, which are the basic building blocks of the language (like keywords, variables, operators, etc.).\n",
        "\n",
        "Parsing: Analyzes the tokens to understand the structure and meaning of the code, creating an Abstract Syntax Tree (AST).\n",
        "\n",
        "Compilation: Converts the AST into bytecode, a lower-level set of instructions that's closer to machine language.\n",
        "\n",
        "Execution: Runs the bytecode, carrying out the instructions defined in your Python code.\n",
        "\n",
        "You see the results: The output of your code, if any, is displayed on your screen.\n"
      ],
      "metadata": {
        "id": "T5_ZpVwnj9BP"
      }
    },
    {
      "cell_type": "markdown",
      "source": [
        "3) What are pre-defined keywords in Python?\n",
        "\n",
        "3) Pre-defined keywords (also called reserved words) are special words that have specific meanings and purposes within the language. They are part of the core syntax of Python and cannot be used as identifiers (like variable names, function names, etc.).\n",
        "\n",
        "Think of them as the fundamental building blocks of the language that Python itself uses to understand your code.\n",
        "\n",
        "Here are some key characteristics of Python keywords:\n",
        "\n",
        "Reserved: They are reserved for specific uses within the Python language. You cannot use these words as names for your variables, functions, or other identifiers.\n",
        "\n",
        "Case-sensitive: Python is case-sensitive, meaning that if, for, and while are keywords, but IF, FOR, and WHILE are not.\n",
        "\n",
        "Built-in: Keywords are built into the Python language and are always available. You don't need to import any modules or libraries to use them\n"
      ],
      "metadata": {
        "id": "c5p86bW1lDFn"
      }
    },
    {
      "cell_type": "markdown",
      "source": [
        "4)  Can keywords be used as variable names?\n",
        "\n",
        "4) No, keywords cannot be used as variable names in Python.\n",
        "\n",
        "Keywords are reserved words with predefined meanings and functionalities in the Python language. They serve as fundamental building blocks of the language's syntax and are essential for the Python interpreter to understand and execute your code correctly.\n",
        "\n",
        "If you attempt to use a keyword as a variable name, you will encounter a syntax error, and your code will not run. This restriction is in place to avoid ambiguity and ensure that the Python interpreter can clearly distinguish between keywords and user-defined identifiers like variable names or function names."
      ],
      "metadata": {
        "id": "eKXxYYC2mZnV"
      }
    },
    {
      "cell_type": "markdown",
      "source": [
        "5) What is mutability in Python?\n",
        "\n",
        "5) In Python, mutability refers to the ability of an object to be changed after it is created. Objects in Python can be categorized as either mutable or immutable based on this characteristic.\n",
        "\n",
        "Mutable Objects:\n",
        "\n",
        "Definition: Mutable objects can be modified after creation. This means you can change their internal state or contents without creating a new object.\n",
        "\n",
        "Examples: Lists, dictionaries, sets are examples of mutable objects in Python.\n",
        "\n",
        "Behavior: When you modify a mutable object, the original object itself is altered. This change will be reflected in all references to that object."
      ],
      "metadata": {
        "id": "o_MNNI7DnFGr"
      }
    },
    {
      "cell_type": "markdown",
      "source": [
        "6) Why are lists mutable, but tuples are immutable?\n",
        "\n",
        "6) The difference in mutability between lists and tuples stems from their intended use cases and underlying design:\n",
        "\n",
        "Lists:\n",
        "\n",
        "Purpose: Lists are designed to be flexible and dynamic collections of items. They are meant to be modified, extended, and rearranged frequently.\n",
        "\n",
        "Implementation: Lists are implemented as dynamic arrays. This means they can grow or shrink in size as needed, and elements can be inserted or removed at any position. This flexibility necessitates mutability.\n",
        "\n",
        "Tuples:\n",
        "\n",
        "Purpose: Tuples are intended to represent fixed collections of heterogeneous data. They are often used to group related pieces of information that should not be changed.\n",
        "\n",
        "Implementation: Tuples are implemented as static arrays. This means their size is fixed at creation, and elements cannot be added or removed. This fixed structure naturally lends itself to immutability.\n",
        "Here's a deeper dive into the reasoning:\n",
        "\n",
        "1. Data Integrity: Tuples are often used to store data that should not be accidentally modified, such as coordinates, database records, or function arguments. Immutability ensures the integrity of this data, preventing unintended changes.\n",
        "\n",
        "2. Hashability: Immutability allows tuples to be used as keys in dictionaries and elements in sets. Dictionaries and sets require their keys and elements to be hashable, meaning they have a fixed value that can be used for efficient lookup. Mutable objects like lists are not hashable because their value can change.\n",
        "\n",
        "3. Performance: In some cases, tuples can offer performance benefits over lists due to their immutability. Since tuples are fixed in size, Python can optimize their memory allocation and access, leading to potentially faster operations.\n",
        "\n",
        "4. Code Clarity: By using tuples to represent fixed collections, you make your code more readable and maintainable. It's clear to other developers that the data stored in a tuple is not intended to be modified.\n",
        "\n",
        "In essence:\n",
        "\n",
        "Lists are mutable because they are designed for dynamic collections that need to be changed frequently.\n",
        "\n",
        "Tuples are immutable because they represent fixed collections where data integrity and hashability are important"
      ],
      "metadata": {
        "id": "02pMz_V-nhc1"
      }
    },
    {
      "cell_type": "markdown",
      "source": [
        "7) What is the difference between “==” and “is” operators in Python?\n",
        "\n",
        "7) == (Equality Operator):\n",
        "\n",
        "Purpose: Checks if the values of two objects are equal.\n",
        "Behavior: Compares the content or data stored in the objects. If the values are the same, it returns True; otherwise, it returns False.\n",
        "is (Identity Operator):\n",
        "\n",
        "Purpose: Checks if two variables refer to the same object in memory.\n",
        "\n",
        "Behavior: Compares the memory addresses of the objects. If both variables point to the same location in memory, it returns True; otherwise, it returns False.\n",
        "Here's a simple analogy:\n",
        "\n",
        "Imagine you have two houses with identical floor plans, furniture, and decorations.\n",
        "\n",
        "==: Using the == operator would be like saying, \"Are these two houses the same in terms of their contents?\" Since they have the same layout and items, the answer would be True.\n",
        "\n",
        "is: Using the is operator would be like asking, \"Are these two houses physically the same building?\" Even if they look identical, they are separate structures with different addresses, so the answer would be False.\n",
        "Key Differences:\n",
        "\n",
        "Feature\t== (Equality)\tis (Identity)\n",
        "Comparison\tCompares values\tCompares memory addresses\n",
        "Result\tTrue if values are equal\tTrue if referring to the same object\n",
        "Use Case\tChecking for equivalent data\tChecking for object identity\n",
        "When to Use Which:\n",
        "\n",
        "==: Use this operator when you want to determine if two objects have the same value, regardless of whether they are the same object in memory.\n",
        "\n",
        "is: Use this operator when you need to check if two variables refer to the exact same object in memory. This is often used for comparing with None (e.g., if x is None:).\n",
        "\n",
        "The is operator helps us check whether different variables point towards a similar object in the memory.\n",
        "\n",
        "An is operator would evaluate to true whenever the variables present on either side of an operator would point towards the very same object. Otherwise, it would give us a false evaluation.\n",
        "\n",
        "Important Considerations:\n",
        "\n",
        "Small integers and strings are often cached by Python for optimization. This means that even if you create two separate variables with the same small integer or string value, they might refer to the same object in memory, and the is operator would return True.\n",
        "For most other objects, especially complex ones, the is operator will only return True if both variables explicitly point to the same object instance."
      ],
      "metadata": {
        "id": "ntCSPfZpoCvM"
      }
    },
    {
      "cell_type": "markdown",
      "source": [
        "8) What are logical operators in Python?\n",
        "\n",
        "8) Logical operators are symbols or words used to combine or modify Boolean expressions (expressions that evaluate to True or False). They allow you to create complex conditions and control the flow of your programs based on the truthiness of those conditions.\n",
        "\n",
        "Here are the three main logical operators in Python:\n",
        "\n",
        "and:\n",
        "\n",
        "Purpose: Returns True if both operands (expressions on either side of the operator) are True. Otherwise, it returns False.\n",
        "Example: age >= 18 and has_license == True (Checks if both age is 18 or above and has_license is True)\n",
        "or:\n",
        "\n",
        "Purpose: Returns True if at least one of the operands is True. It returns False only if both operands are False.\n",
        "Example: is_weekend == True or is_holiday == True (Checks if either is_weekend or is_holiday is True)\n",
        "not:\n",
        "\n",
        "Purpose: Inverts the truth value of the operand. If the operand is True, it returns False. If the operand is False, it returns True.\n",
        "Example: not is_raining (Checks if is_raining is False)\n",
        "\n",
        "Use Cases:\n",
        "\n",
        "Conditional Statements: Logical operators are commonly used in if, elif, and while statements to create complex conditions for controlling program flow.\n",
        "Filtering Data: They can be used to filter data based on multiple criteria.\n",
        "Validations: Logical operators are helpful for validating user input or data before processing."
      ],
      "metadata": {
        "id": "ilTywxfZqYpN"
      }
    },
    {
      "cell_type": "markdown",
      "source": [
        "9)  What is type casting in Python?\n",
        "\n",
        "9) Type casting, also known as type conversion, is the process of changing the data type of a value from one type to another. This is often necessary when you need to perform operations on values of different types or when you want to ensure that a value is of a specific type.\n",
        "\n",
        "Why Type Cast?\n",
        "\n",
        "Here are some reasons why you might need to type cast in Python:\n",
        "\n",
        "Performing Operations: Some operations require operands of specific types. For example, you can't directly add a string and an integer. You would need to convert the string to an integer or the integer to a string before performing the addition.\n",
        "\n",
        "Data Input and Output: When reading data from external sources or displaying data to the user, you might need to convert the data to the appropriate type.\n",
        "\n",
        "Function Arguments: Some functions expect arguments of specific types. You might need to type cast the arguments before passing them to the function.\n",
        "\n",
        "How to Type Cast:\n",
        "\n",
        "In Python, you can use built-in functions to perform type casting. Here are some common functions:\n",
        "\n",
        "int(): Converts a value to an integer.\n",
        "float(): Converts a value to a floating-point number.\n",
        "str(): Converts a value to a string.\n",
        "bool(): Converts a value to a Boolean (True or False).\n",
        "\n",
        "\n",
        "\n"
      ],
      "metadata": {
        "id": "x8V2T9kgsZfL"
      }
    },
    {
      "cell_type": "markdown",
      "source": [
        "10) What is the difference between implicit and explicit type casting?\n",
        "\n",
        "10) Implicit Type Casting:\n",
        "\n",
        "Definition: Implicit type casting, also known as automatic type conversion, is performed by the Python interpreter without any explicit instruction from the programmer.\n",
        "\n",
        "When it Happens: It occurs when an operation involves operands of different data types, and Python automatically converts one of the operands to a compatible type to perform the operation.\n",
        "\n",
        "Example:\n",
        "\n",
        "num1 = 10  # Integer\n",
        "   num2 = 3.5  # Float\n",
        "   result = num1 + num2  # Implicitly converts num1 to float\n",
        "   print(result)  # Output: 13.5 (float)\n",
        "\n",
        "Explicit Type Casting:\n",
        "\n",
        "Definition: Explicit type casting, also known as manual type conversion, is performed by the programmer using built-in type casting functions (int(), float(), str(), etc.).\n",
        "\n",
        "When it's Used: It's used when you want to explicitly control the type conversion process, ensuring that a value is of a specific type before performing an operation or passing it to a function.\n",
        "\n",
        "Example:\n",
        "\n",
        "age_str = \"25\"\n",
        "   age_int = int(age_str)  # Explicitly converts string to integer\n",
        "   print(age_int + 5)  # Output: 30 (integer)"
      ],
      "metadata": {
        "id": "Eb51Zr_Avjzj"
      }
    },
    {
      "cell_type": "markdown",
      "source": [
        "11) What is the purpose of conditional statements in Python?\n",
        "\n",
        "11) Conditional statements are fundamental programming constructs that allow you to control the flow of execution in your code based on certain conditions. They enable your program to make decisions and execute different blocks of code depending on whether a condition is true or false.\n",
        "\n",
        "Purpose:\n",
        "\n",
        "The primary purpose of conditional statements is to introduce decision-making logic into your programs. They allow you to:\n",
        "\n",
        "Execute Code Selectively: You can specify blocks of code that should only be executed if a particular condition is met. This allows you to create programs that respond differently to different inputs or situations.\n",
        "\n",
        "Control Program Flow: Conditional statements determine the order in which instructions are executed. They can skip over certain parts of the code or repeat sections based on the conditions.\n",
        "\n",
        "Implement Logic: They are essential for implementing logical operations and algorithms, enabling your programs to solve problems and make informed decisions.\n",
        "\n",
        "Types of Conditional Statements:\n",
        "\n",
        "Python provides the following conditional statements:\n",
        "\n",
        "if statement: Executes a block of code if a condition is true.\n",
        "elif statement (optional): Allows you to check multiple conditions sequentially. If the if condition is false, it checks the elif condition.\n",
        "else statement (optional): Provides a default block of code to execute if none of the preceding conditions are true.\n",
        "Example:\n",
        "\n",
        "\n",
        "age = 20\n",
        "\n",
        "if age >= 18:\n",
        "    print(\"You are an adult.\")\n",
        "else:\n",
        "    print(\"You are a minor.\")\n",
        "Use code with caution\n",
        "\n",
        "In this example, the if statement checks if the age is 18 or above. If it is, it prints \"You are an adult.\" Otherwise, it executes the else block and prints \"You are a minor.\"\n",
        "\n",
        "Benefits of Conditional Statements:\n",
        "\n",
        "Flexibility: They make your programs more adaptable to different situations and inputs.\n",
        "\n",
        "Readability: They improve the clarity and organization of your code by separating different logic branches.\n",
        "\n",
        "Efficiency: They allow you to avoid unnecessary computations by skipping code that is not relevant to the current conditions."
      ],
      "metadata": {
        "id": "qpapnC-RwVJ4"
      }
    },
    {
      "cell_type": "markdown",
      "source": [
        "12) How does the elif statement work?\n",
        "\n",
        "12) The elif statement, short for \"else if,\" is used in conjunction with the if statement to create a chain of conditional checks. It allows you to test multiple conditions sequentially and execute different blocks of code based on the first condition that evaluates to True.\n",
        "\n",
        "How it Works:\n",
        "\n",
        "Initial if Check: The program first evaluates the condition in the initial if statement.\n",
        "elif Condition: If the if condition is False, the program moves to the next elif statement and evaluates its condition.\n",
        "\n",
        "Sequential Evaluation: The program continues to check each elif condition in order until it finds one that is True.\n",
        "\n",
        "Code Execution: When a True condition is found, the corresponding block of code associated with that elif statement is executed.\n",
        "\n",
        "Skipping Remaining Conditions: After executing the code block of a True elif condition, the program skips all remaining elif and else blocks.\n",
        "\n",
        "else Block (Optional): If none of the if or elif conditions are True, the program executes the code block under the else statement, if present.\n",
        "Example:\n",
        "\n",
        "\n",
        "score = 85\n",
        "\n",
        "if score >= 90:\n",
        "    grade = \"A\"\n",
        "elif score >= 80:\n",
        "    grade = \"B\"\n",
        "elif score >= 70:\n",
        "    grade = \"C\"\n",
        "else:\n",
        "    grade = \"D\"\n",
        "\n",
        "print(\"Your grade is:\", grade)  # Output: Your grade is: B\n",
        "Use code with caution\n",
        "In this example, the program first checks if score is greater than or equal to 90. Since it's not, it moves to the next elif and checks if score is greater than or equal to 80. This condition is True, so it assigns the grade \"B\" and skips the remaining elif and else blocks.\n",
        "\n",
        "Key Points:\n",
        "\n",
        "Sequential: elif statements are evaluated sequentially after the initial if statement.\n",
        "Exclusive: Only the code block associated with the first True condition is executed.\n",
        "Optional: You can have multiple elif statements or none at all.\n",
        "else Block: The else block is optional and provides a default action if none of the if or elif conditions are met."
      ],
      "metadata": {
        "id": "CMvvRmGxz3bo"
      }
    },
    {
      "cell_type": "markdown",
      "source": [
        "13) What is the difference between for and while loops?\n",
        "\n",
        "13) The difference between for and while loops in Python.\n",
        "\n",
        "Both for and while loops are used for iteration, which means repeating a block of code multiple times. However, they differ in how they control the iteration process:\n",
        "\n",
        "for loop:\n",
        "\n",
        "Purpose: Iterates over a sequence (such as a list, tuple, string, or range) or other iterable object.\n",
        "Structure:\n",
        "\n",
        "for item in sequence:\n",
        "\n",
        "       # Code to be executed for each item\n",
        "\n",
        "Use code with caution\n",
        "\n",
        "Iteration Control: The loop automatically iterates through each item in the sequence. It stops when it has processed all items.\n",
        "\n",
        "When to Use: Use a for loop when you know the number of iterations in advance or when you need to process each item in a sequence.\n",
        "while loop:\n",
        "\n",
        "Purpose: Repeats a block of code as long as a condition is true.\n",
        "Structure:\n",
        "\n",
        "while condition:\n",
        "       # Code to be executed while condition is true\n",
        "\n",
        "Use code with caution\n",
        "\n",
        "Iteration Control: The loop continues to execute as long as the condition evaluates to True. You need to ensure that the condition eventually becomes False to avoid an infinite loop.\n",
        "\n",
        "When to Use: Use a while loop when you don't know the number of iterations in advance or when you need to repeat a block of code until a specific condition is met.\n",
        "\n",
        "Key Differences:\n",
        "\n",
        "Feature\tfor loop\twhile loop\n",
        "Iteration Control\tBased on sequence or iterable\tBased on a condition\n",
        "Number of Iterations\tKnown in advance (usually)\tUnknown in advance\n",
        "Use Case\tIterating over sequences\tRepeating code until a condition is met\n",
        "Risk of Infinite Loop\tLess likely (unless the sequence is infinite)\tMore likely if the condition is not carefully managed\n",
        "Example:\n",
        "\n",
        "for loop:\n",
        "\n",
        "\n",
        "numbers = [1, 2, 3, 4, 5]\n",
        "for number in numbers:\n",
        "    print(number)\n",
        "Use code with caution\n",
        "This loop iterates through each element in the numbers list and prints it.\n",
        "\n",
        "while loop:\n",
        "\n",
        "\n",
        "count = 0\n",
        "while count < 5:\n",
        "    print(count)\n",
        "    count += 1\n",
        "Use code with caution\n",
        "This loop prints the value of count and increments it by 1 as long as count is less than 5.\n",
        "\n",
        "In Essence:\n",
        "\n",
        "Use a for loop when you need to iterate over a known sequence of elements.\n",
        "Use a while loop when you need to repeat code based on a condition, and you don't necessarily know how many iterations will be needed.\n"
      ],
      "metadata": {
        "id": "y9SXZspO1WNS"
      }
    },
    {
      "cell_type": "markdown",
      "source": [
        "14) Describe a scenario where a while loop is more suitable than a for loop?\n",
        "\n",
        "14) let's consider a scenario where a while loop would be more suitable than a for loop in Python.\n",
        "\n",
        "Scenario: Reading User Input Until a Specific Condition is Met\n",
        "\n",
        "Imagine you're writing a program that needs to continuously read user input until the user enters a specific keyword, such as \"quit\" or \"exit.\" In this case, you don't know beforehand how many times the loop needs to run because it depends on the user's input.\n",
        "\n",
        "Why while loop is better:\n",
        "\n",
        "Indeterminate Number of Iterations: A while loop is ideal for this scenario because you don't know the number of iterations in advance. The loop continues to execute as long as the user hasn't entered the termination keyword.\n",
        "Flexibility: A while loop allows you to easily check the condition at the beginning of each iteration and exit the loop when the condition is met.\n",
        "Example:\n",
        "\n",
        "\n",
        "user_input = \"\"\n",
        "while user_input != \"quit\":\n",
        "    user_input = input(\"Enter a command (or 'quit' to exit): \")\n",
        "    # Process the user input\n",
        "    print(\"You entered:\", user_input)\n",
        "Use code with caution\n",
        "In this example, the while loop keeps prompting the user for input until they enter \"quit.\" The loop then terminates, allowing the program to proceed with other tasks or exit.\n",
        "\n",
        "Why for loop is less suitable:\n",
        "\n",
        "Fixed Iteration: A for loop is designed to iterate over a known sequence of elements. In this scenario, you don't have a predefined sequence of user inputs.\n",
        "Awkward Termination: You could potentially use a for loop with a large range and break out of it when the condition is met. However, this approach would be less elegant and efficient compared to a while loop."
      ],
      "metadata": {
        "id": "sEY8iIH-2JOj"
      }
    },
    {
      "cell_type": "code",
      "execution_count": null,
      "metadata": {
        "id": "5lfiOyNlkHN-"
      },
      "outputs": [],
      "source": [
        "# Practical Questions\n",
        "\n",
        "# 1) Write a Python program to print \" Hello, World!\""
      ]
    },
    {
      "cell_type": "code",
      "source": [
        "print (\"Hello, World\")"
      ],
      "metadata": {
        "colab": {
          "base_uri": "https://localhost:8080/"
        },
        "id": "c3VF-pkckaRN",
        "outputId": "e94c5987-0ccf-4ac9-fb01-70531599eb3e"
      },
      "execution_count": null,
      "outputs": [
        {
          "output_type": "stream",
          "name": "stdout",
          "text": [
            "Hello, World\n"
          ]
        }
      ]
    },
    {
      "cell_type": "code",
      "source": [
        "# 2) Write a Python program that displays your name and age.\n",
        "Name = input (\"My name is \")\n",
        "Age = input (\"My age is \")"
      ],
      "metadata": {
        "colab": {
          "base_uri": "https://localhost:8080/"
        },
        "id": "XNlVAm0mklXb",
        "outputId": "8ad97f0e-5b6c-4402-c405-1e008697eebf"
      },
      "execution_count": null,
      "outputs": [
        {
          "name": "stdout",
          "output_type": "stream",
          "text": [
            "My name is Mohit\n",
            "My age is 26\n"
          ]
        }
      ]
    },
    {
      "cell_type": "code",
      "source": [
        "# 3) Write code to print all the predefined keywords in python using the keyword library.\n",
        "import keyword\n",
        "print(\"Python keywords are...\")\n",
        "print(keyword.kwlist)"
      ],
      "metadata": {
        "colab": {
          "base_uri": "https://localhost:8080/"
        },
        "id": "NbheCOs5lVaq",
        "outputId": "8f4a2ab4-6c5c-4f20-8eef-54fe43679509"
      },
      "execution_count": null,
      "outputs": [
        {
          "output_type": "stream",
          "name": "stdout",
          "text": [
            "Python keywords are...\n",
            "['False', 'None', 'True', 'and', 'as', 'assert', 'async', 'await', 'break', 'class', 'continue', 'def', 'del', 'elif', 'else', 'except', 'finally', 'for', 'from', 'global', 'if', 'import', 'in', 'is', 'lambda', 'nonlocal', 'not', 'or', 'pass', 'raise', 'return', 'try', 'while', 'with', 'yield']\n"
          ]
        }
      ]
    },
    {
      "cell_type": "code",
      "source": [
        "# 4) Write a program to check that checks if a given word is a Python keyword.\n",
        "\n",
        "import keyword\n",
        "\n",
        "def is_keyword(word):\n",
        "  return keyword.iskeyword(word)\n",
        "\n",
        "word = input(\"Enter a word: \")\n",
        "if is_keyword(word):\n",
        "  print(f\"{word} is a Python keyword.\")\n",
        "else:\n",
        "  print(f\"{word} is not a Python keyword.\")"
      ],
      "metadata": {
        "colab": {
          "base_uri": "https://localhost:8080/"
        },
        "id": "Wsdn_hMPl_Ma",
        "outputId": "6847dfd1-8262-4d4e-cfe5-f79dc278c06c"
      },
      "execution_count": 10,
      "outputs": [
        {
          "output_type": "stream",
          "name": "stdout",
          "text": [
            "Enter a word: cool\n",
            "cool is not a Python keyword.\n"
          ]
        }
      ]
    },
    {
      "cell_type": "code",
      "source": [
        "# 5) Create a list and tuple in Python, and demonstrate how attempting to change an element works differently for each.\n",
        "\n",
        "# Create a list\n",
        "my_list = [1, 2, 3]\n",
        "\n",
        "# Create a tuple\n",
        "my_tuple = (1, 2, 3)\n",
        "\n",
        "# Attempt to change an element in the list\n",
        "my_list[0] = 4\n",
        "print(\"Updated List:\", my_list)\n",
        "\n",
        "# Attempt to change an element in the tuple\n",
        "try:\n",
        "    my_tuple[0] = 4\n",
        "except TypeError as t:\n",
        "    print(\"Error:\", t)"
      ],
      "metadata": {
        "id": "2FP4bMH7s238",
        "colab": {
          "base_uri": "https://localhost:8080/"
        },
        "outputId": "52496ffb-ed2f-4a17-c283-8fb57ddefe70"
      },
      "execution_count": 7,
      "outputs": [
        {
          "output_type": "stream",
          "name": "stdout",
          "text": [
            "Updated List: [4, 2, 3]\n",
            "Error: 'tuple' object does not support item assignment\n"
          ]
        }
      ]
    },
    {
      "cell_type": "code",
      "source": [
        "# 6) Write a function to demonstrate the behavior of mutable and immutable arguments\n",
        "\n",
        "def Check_Mutability(number, my_list):\n",
        "\n",
        "    number = 1  # Modifies the local copy of the number\n",
        "    my_list.append(4)  # Modifies the original list\n",
        "\n",
        "# Initialize variables\n",
        "num = 10\n",
        "list1 = [1, 2, 3]\n",
        "\n",
        "# Call the function\n",
        "Check_Mutability(num, list1)\n",
        "\n",
        "# Print the results\n",
        "print(\"Original number:\", num)  # Output: 10\n",
        "print(\"Original list:\", list1)  # Output: [1, 2, 3, 4]"
      ],
      "metadata": {
        "colab": {
          "base_uri": "https://localhost:8080/"
        },
        "id": "S-m4atCMvtj3",
        "outputId": "c767ed25-8609-4bdf-f470-94b8d6d47c88"
      },
      "execution_count": 11,
      "outputs": [
        {
          "output_type": "stream",
          "name": "stdout",
          "text": [
            "Original number: 10\n",
            "Original list: [1, 2, 3, 4]\n"
          ]
        }
      ]
    },
    {
      "cell_type": "code",
      "source": [
        "# 7) Write a function to demonstrate the behavior of mutable and immutable arguments\n",
        "\n",
        "def Check_Mutability(number, my_list):\n",
        "\n",
        "    number = 1  # Modifies the local copy of the number\n",
        "    my_list.append(4)  # Modifies the original list\n",
        "\n",
        "# Initialize variables\n",
        "num = 10\n",
        "list1 = [1, 2, 3]\n",
        "\n",
        "# Call the function\n",
        "Check_Mutability(num, list1)\n",
        "\n",
        "# Print the results\n",
        "print(\"Original number:\", num)  # Output: 10\n",
        "print(\"Original list:\", list1)  # Output: [1, 2, 3, 4]"
      ],
      "metadata": {
        "colab": {
          "base_uri": "https://localhost:8080/"
        },
        "id": "k79b_gl5z5_A",
        "outputId": "b9ecaf4b-7fba-4b74-c3f7-7f14fd99c6e4"
      },
      "execution_count": 12,
      "outputs": [
        {
          "output_type": "stream",
          "name": "stdout",
          "text": [
            "Original number: 10\n",
            "Original list: [1, 2, 3, 4]\n"
          ]
        }
      ]
    },
    {
      "cell_type": "code",
      "source": [
        "# 8) Write a program to demonstrate the use of logical operators\n",
        "\n",
        "# Logical operators are and,or,not.\n",
        "# AND Operator\n",
        "\n",
        "Maths = int(input(\"Type your Number \"))\n",
        "Percentage = int(input(\"Type your total percentage with out % sign \"))\n",
        "if Maths >= 33 and  Percentage >= 40:\n",
        "  print(\"You are pass\")\n",
        "else:\n",
        "  print(\"You are fail\")\n",
        "\n",
        "# OR Operator\n",
        "\n",
        "Maths = int(input(\"Type your Number \"))\n",
        "Percentage = int(input(\"Type your total percentage with out % sign \"))\n",
        "if Percentage >= 50 or Maths >= 33 :\n",
        "  print(\"You are Pass\")\n",
        "else:\n",
        "  print(\"You are fail\")\n",
        "\n",
        "# NOT Operator\n",
        "\n",
        "Percentage = int(input(\"Type your total percentage with out % sign \"))\n",
        "if not (33<= Percentage <= 100):\n",
        "  print(\"You are Fail\")\n",
        "else:\n",
        "  print(\"You are Pass\")\n"
      ],
      "metadata": {
        "colab": {
          "base_uri": "https://localhost:8080/"
        },
        "id": "8vnQbuRD0LcB",
        "outputId": "e0eb75ae-cd54-477d-f981-bbd08ec8b002"
      },
      "execution_count": 20,
      "outputs": [
        {
          "output_type": "stream",
          "name": "stdout",
          "text": [
            "Type your Number 55\n",
            "Type your total percentage with out % sign 55\n",
            "You are pass\n",
            "Type your Number 55\n",
            "Type your total percentage with out % sign 55\n",
            "You are Pass\n",
            "Type your total percentage with out % sign 55\n",
            "You are fail\n"
          ]
        }
      ]
    },
    {
      "cell_type": "code",
      "source": [
        "# 9) Write a Python program to convert user input from string to integer, float, and boolean types\n",
        "\n",
        "def convert_input(user_input):\n",
        "\n",
        "    try:\n",
        "        # Convert to integer\n",
        "        integer_value = int(user_input)\n",
        "    except ValueError:\n",
        "        integer_value = \"Cannot convert to integer\"\n",
        "\n",
        "    try:\n",
        "        # Convert to float\n",
        "        float_value = float(user_input)\n",
        "    except ValueError:\n",
        "        float_value = \"Cannot convert to float\"\n",
        "\n",
        "    # Convert to boolean (case-insensitive)\n",
        "        boolean_value = user_input.lower() in [\"true\", \"1\", \"t\", \"y\", \"yes\"]\n",
        "\n",
        "        return integer_value, float_value, boolean_value\n",
        "\n",
        "# Get user input\n",
        "user_input = input(\"Enter a value: \")\n",
        "\n",
        "# Convert to different types\n",
        "integer_result, float_result, boolean_result = convert_input(user_input)\n",
        "\n",
        "# Print the results\n",
        "print(\"Integer:\", integer_result)\n",
        "print(\"Float:\", float_result)\n",
        "print(\"Boolean:\", boolean_result)\n",
        ""
      ],
      "metadata": {
        "colab": {
          "base_uri": "https://localhost:8080/"
        },
        "id": "2ZruQU6y4v-E",
        "outputId": "40ed17de-3e17-4bc0-94f0-954fd0091c75"
      },
      "execution_count": 31,
      "outputs": [
        {
          "output_type": "stream",
          "name": "stdout",
          "text": [
            "Enter a value: no\n",
            "Integer: Cannot convert to integer\n",
            "Float: Cannot convert to float\n",
            "Boolean: False\n"
          ]
        }
      ]
    },
    {
      "cell_type": "code",
      "source": [
        "# 10) Write code to demonstrate type casting with list elements\n",
        "\n",
        "# Original list with mixed data types\n",
        "my_list = [\"123\", \"45.67\", \"True\", \"False\", \"hello\"]\n",
        "\n",
        "# Type casting to integer\n",
        "integer_list = [int(item) for item in my_list if item.isdigit()]\n",
        "print(\"Integer List:\", integer_list)\n",
        "\n",
        "# Type casting to float\n",
        "float_list = [float(item) for item in my_list if item.replace('.', '', 1).isdigit() and item.count('.') <= 1]\n",
        "print(\"Float List:\", float_list)\n",
        "\n",
        "# Type casting to boolean\n",
        "boolean_list = [item.lower() in [\"true\", \"1\", \"t\", \"y\", \"yes\"] for item in my_list]\n",
        "print(\"Boolean List:\", boolean_list)\n",
        "\n",
        "# Example of typecasting list elements with specific types\n",
        "my_list2 = [\"1\", \"2.5\", \"True\"]\n",
        "type_cast_list = [int(my_list2[0]), float(my_list2[1]), bool(my_list2[2])]\n",
        "print(\"Type Cast List:\", type_cast_list)"
      ],
      "metadata": {
        "colab": {
          "base_uri": "https://localhost:8080/"
        },
        "id": "UaBgbVRDAMBu",
        "outputId": "279c796e-6714-4f5c-9046-2b500628eb91"
      },
      "execution_count": 32,
      "outputs": [
        {
          "output_type": "stream",
          "name": "stdout",
          "text": [
            "Integer List: [123]\n",
            "Float List: [123.0, 45.67]\n",
            "Boolean List: [False, False, True, False, False]\n",
            "Type Cast List: [1, 2.5, True]\n"
          ]
        }
      ]
    },
    {
      "cell_type": "code",
      "source": [
        "# 11) Write a program that checks if a number is positive, negative, or zero\n",
        "\n",
        "num = float(input(\"Enter a number: \"))\n",
        "\n",
        "if num > 0:\n",
        "    print(\"The number is positive.\")\n",
        "elif num < 0:\n",
        "    print(\"The number is negative.\")\n",
        "else:\n",
        "    print(\"The number is zero.\")"
      ],
      "metadata": {
        "colab": {
          "base_uri": "https://localhost:8080/"
        },
        "id": "PdXn_T_RLbCd",
        "outputId": "371b5c92-8ce3-4512-fb45-c8415dabc490"
      },
      "execution_count": 33,
      "outputs": [
        {
          "output_type": "stream",
          "name": "stdout",
          "text": [
            "Enter a number: 10\n",
            "The number is positive.\n"
          ]
        }
      ]
    },
    {
      "cell_type": "code",
      "source": [
        "# 12)  Write a for loop to print numbers from 1 to 10\n",
        "\n",
        "for num in range(1, 11):\n",
        "    print(num)\n"
      ],
      "metadata": {
        "colab": {
          "base_uri": "https://localhost:8080/"
        },
        "id": "c3XpJ0DNMv0t",
        "outputId": "5d1a1a65-7be6-44c3-f667-5f0a28bc6ee6"
      },
      "execution_count": 34,
      "outputs": [
        {
          "output_type": "stream",
          "name": "stdout",
          "text": [
            "1\n",
            "2\n",
            "3\n",
            "4\n",
            "5\n",
            "6\n",
            "7\n",
            "8\n",
            "9\n",
            "10\n"
          ]
        }
      ]
    },
    {
      "cell_type": "code",
      "source": [
        "# 13) Write a Python program to find the sum of all even numbers between 1 and 500\n",
        "\n",
        "sum_even = 0\n",
        "\n",
        "for num in range(2, 501, 2):\n",
        "    sum_even += num\n",
        "\n",
        "print(\"The sum of even numbers between 1 and 500 is:\", sum_even)\n",
        "\n"
      ],
      "metadata": {
        "colab": {
          "base_uri": "https://localhost:8080/"
        },
        "id": "trztFLuYO1D9",
        "outputId": "65017237-250d-4f2d-fd4d-8409462704d4"
      },
      "execution_count": 37,
      "outputs": [
        {
          "output_type": "stream",
          "name": "stdout",
          "text": [
            "The sum of even numbers between 1 and 500 is: 62750\n"
          ]
        }
      ]
    },
    {
      "cell_type": "code",
      "source": [
        "# 14) Write a program to reverse a string using a while loop\n",
        "\n",
        "string = input(\"Enter a string: \")\n",
        "reversed_string = \"\"\n",
        "index = len(string) - 1\n",
        "\n",
        "while index >= 0:\n",
        "    reversed_string += string[index]\n",
        "    index -= 1\n",
        "\n",
        "print(\"Reversed string:\", reversed_string)"
      ],
      "metadata": {
        "colab": {
          "base_uri": "https://localhost:8080/"
        },
        "id": "FA2-uECHPYwM",
        "outputId": "34ea97e5-1d97-46dd-e311-ceeba92f4846"
      },
      "execution_count": 46,
      "outputs": [
        {
          "output_type": "stream",
          "name": "stdout",
          "text": [
            "Enter a string: 50\n",
            "Reversed string: 05\n"
          ]
        }
      ]
    },
    {
      "cell_type": "code",
      "source": [
        "# 15) Write a Python program to calculate the factorial of a number provided by the user using a while loop\n",
        "\n",
        "num = int(input(\"Enter a number: \"))\n",
        "factorial = 1\n",
        "current = 1\n",
        "\n",
        "while current <= num:\n",
        "    factorial *= current\n",
        "    current += 1\n",
        "\n",
        "print(f\"The factorial of {num} is {factorial}\")"
      ],
      "metadata": {
        "colab": {
          "base_uri": "https://localhost:8080/"
        },
        "id": "ZMR9jeNsS6-4",
        "outputId": "a87d31e5-c237-41ac-8348-fbe515cb5b4f"
      },
      "execution_count": 45,
      "outputs": [
        {
          "output_type": "stream",
          "name": "stdout",
          "text": [
            "Enter a number: 5\n",
            "The factorial of 5 is 120\n"
          ]
        }
      ]
    },
    {
      "cell_type": "code",
      "source": [],
      "metadata": {
        "id": "QspokUEfdlhV"
      },
      "execution_count": null,
      "outputs": []
    }
  ]
}